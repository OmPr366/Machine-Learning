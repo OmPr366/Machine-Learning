{
 "cells": [
  {
   "cell_type": "markdown",
   "id": "b682542c",
   "metadata": {},
   "source": [
    "#Panda"
   ]
  },
  {
   "cell_type": "code",
   "execution_count": 1,
   "id": "269f3c13",
   "metadata": {},
   "outputs": [],
   "source": [
    "import pandas as pd\n",
    "import numpy as np "
   ]
  },
  {
   "cell_type": "code",
   "execution_count": 5,
   "id": "a415f688",
   "metadata": {},
   "outputs": [],
   "source": [
    "df = pd.DataFrame({\n",
    "   'A': pd.date_range(start='2016-01-01',periods=N,freq='D'),\n",
    "   'x': np.linspace(0,stop=N-1,num=N),\n",
    "   'y': np.random.rand(N),\n",
    "   'C': np.random.choice(['Low','Medium','High'],N).tolist(),\n",
    "   'D': np.random.normal(100, 10, size=(N)).tolist()\n",
    "   })"
   ]
  },
  {
   "cell_type": "code",
   "execution_count": 6,
   "id": "8fee46ea",
   "metadata": {},
   "outputs": [
    {
     "data": {
      "text/html": [
       "<div>\n",
       "<style scoped>\n",
       "    .dataframe tbody tr th:only-of-type {\n",
       "        vertical-align: middle;\n",
       "    }\n",
       "\n",
       "    .dataframe tbody tr th {\n",
       "        vertical-align: top;\n",
       "    }\n",
       "\n",
       "    .dataframe thead th {\n",
       "        text-align: right;\n",
       "    }\n",
       "</style>\n",
       "<table border=\"1\" class=\"dataframe\">\n",
       "  <thead>\n",
       "    <tr style=\"text-align: right;\">\n",
       "      <th></th>\n",
       "      <th>A</th>\n",
       "      <th>x</th>\n",
       "      <th>y</th>\n",
       "      <th>C</th>\n",
       "      <th>D</th>\n",
       "    </tr>\n",
       "  </thead>\n",
       "  <tbody>\n",
       "    <tr>\n",
       "      <th>0</th>\n",
       "      <td>2016-01-01</td>\n",
       "      <td>0.0</td>\n",
       "      <td>0.107537</td>\n",
       "      <td>High</td>\n",
       "      <td>90.127449</td>\n",
       "    </tr>\n",
       "    <tr>\n",
       "      <th>1</th>\n",
       "      <td>2016-01-02</td>\n",
       "      <td>1.0</td>\n",
       "      <td>0.588287</td>\n",
       "      <td>Low</td>\n",
       "      <td>87.555180</td>\n",
       "    </tr>\n",
       "    <tr>\n",
       "      <th>2</th>\n",
       "      <td>2016-01-03</td>\n",
       "      <td>2.0</td>\n",
       "      <td>0.671983</td>\n",
       "      <td>Medium</td>\n",
       "      <td>95.391725</td>\n",
       "    </tr>\n",
       "    <tr>\n",
       "      <th>3</th>\n",
       "      <td>2016-01-04</td>\n",
       "      <td>3.0</td>\n",
       "      <td>0.884047</td>\n",
       "      <td>Medium</td>\n",
       "      <td>89.910952</td>\n",
       "    </tr>\n",
       "    <tr>\n",
       "      <th>4</th>\n",
       "      <td>2016-01-05</td>\n",
       "      <td>4.0</td>\n",
       "      <td>0.001778</td>\n",
       "      <td>High</td>\n",
       "      <td>102.843244</td>\n",
       "    </tr>\n",
       "    <tr>\n",
       "      <th>5</th>\n",
       "      <td>2016-01-06</td>\n",
       "      <td>5.0</td>\n",
       "      <td>0.148985</td>\n",
       "      <td>Medium</td>\n",
       "      <td>115.165223</td>\n",
       "    </tr>\n",
       "    <tr>\n",
       "      <th>6</th>\n",
       "      <td>2016-01-07</td>\n",
       "      <td>6.0</td>\n",
       "      <td>0.700360</td>\n",
       "      <td>Medium</td>\n",
       "      <td>95.686911</td>\n",
       "    </tr>\n",
       "    <tr>\n",
       "      <th>7</th>\n",
       "      <td>2016-01-08</td>\n",
       "      <td>7.0</td>\n",
       "      <td>0.964306</td>\n",
       "      <td>Low</td>\n",
       "      <td>88.992629</td>\n",
       "    </tr>\n",
       "    <tr>\n",
       "      <th>8</th>\n",
       "      <td>2016-01-09</td>\n",
       "      <td>8.0</td>\n",
       "      <td>0.328909</td>\n",
       "      <td>Low</td>\n",
       "      <td>103.084801</td>\n",
       "    </tr>\n",
       "    <tr>\n",
       "      <th>9</th>\n",
       "      <td>2016-01-10</td>\n",
       "      <td>9.0</td>\n",
       "      <td>0.752253</td>\n",
       "      <td>Medium</td>\n",
       "      <td>106.236584</td>\n",
       "    </tr>\n",
       "    <tr>\n",
       "      <th>10</th>\n",
       "      <td>2016-01-11</td>\n",
       "      <td>10.0</td>\n",
       "      <td>0.528228</td>\n",
       "      <td>Medium</td>\n",
       "      <td>121.832938</td>\n",
       "    </tr>\n",
       "    <tr>\n",
       "      <th>11</th>\n",
       "      <td>2016-01-12</td>\n",
       "      <td>11.0</td>\n",
       "      <td>0.242696</td>\n",
       "      <td>Low</td>\n",
       "      <td>101.003161</td>\n",
       "    </tr>\n",
       "    <tr>\n",
       "      <th>12</th>\n",
       "      <td>2016-01-13</td>\n",
       "      <td>12.0</td>\n",
       "      <td>0.712950</td>\n",
       "      <td>Medium</td>\n",
       "      <td>96.209642</td>\n",
       "    </tr>\n",
       "    <tr>\n",
       "      <th>13</th>\n",
       "      <td>2016-01-14</td>\n",
       "      <td>13.0</td>\n",
       "      <td>0.335188</td>\n",
       "      <td>Medium</td>\n",
       "      <td>115.176577</td>\n",
       "    </tr>\n",
       "    <tr>\n",
       "      <th>14</th>\n",
       "      <td>2016-01-15</td>\n",
       "      <td>14.0</td>\n",
       "      <td>0.250971</td>\n",
       "      <td>Medium</td>\n",
       "      <td>98.599358</td>\n",
       "    </tr>\n",
       "    <tr>\n",
       "      <th>15</th>\n",
       "      <td>2016-01-16</td>\n",
       "      <td>15.0</td>\n",
       "      <td>0.976546</td>\n",
       "      <td>Low</td>\n",
       "      <td>118.223845</td>\n",
       "    </tr>\n",
       "    <tr>\n",
       "      <th>16</th>\n",
       "      <td>2016-01-17</td>\n",
       "      <td>16.0</td>\n",
       "      <td>0.923933</td>\n",
       "      <td>High</td>\n",
       "      <td>82.441102</td>\n",
       "    </tr>\n",
       "    <tr>\n",
       "      <th>17</th>\n",
       "      <td>2016-01-18</td>\n",
       "      <td>17.0</td>\n",
       "      <td>0.453888</td>\n",
       "      <td>High</td>\n",
       "      <td>119.626335</td>\n",
       "    </tr>\n",
       "    <tr>\n",
       "      <th>18</th>\n",
       "      <td>2016-01-19</td>\n",
       "      <td>18.0</td>\n",
       "      <td>0.624867</td>\n",
       "      <td>Low</td>\n",
       "      <td>87.028454</td>\n",
       "    </tr>\n",
       "    <tr>\n",
       "      <th>19</th>\n",
       "      <td>2016-01-20</td>\n",
       "      <td>19.0</td>\n",
       "      <td>0.425909</td>\n",
       "      <td>Low</td>\n",
       "      <td>91.067972</td>\n",
       "    </tr>\n",
       "  </tbody>\n",
       "</table>\n",
       "</div>"
      ],
      "text/plain": [
       "            A     x         y       C           D\n",
       "0  2016-01-01   0.0  0.107537    High   90.127449\n",
       "1  2016-01-02   1.0  0.588287     Low   87.555180\n",
       "2  2016-01-03   2.0  0.671983  Medium   95.391725\n",
       "3  2016-01-04   3.0  0.884047  Medium   89.910952\n",
       "4  2016-01-05   4.0  0.001778    High  102.843244\n",
       "5  2016-01-06   5.0  0.148985  Medium  115.165223\n",
       "6  2016-01-07   6.0  0.700360  Medium   95.686911\n",
       "7  2016-01-08   7.0  0.964306     Low   88.992629\n",
       "8  2016-01-09   8.0  0.328909     Low  103.084801\n",
       "9  2016-01-10   9.0  0.752253  Medium  106.236584\n",
       "10 2016-01-11  10.0  0.528228  Medium  121.832938\n",
       "11 2016-01-12  11.0  0.242696     Low  101.003161\n",
       "12 2016-01-13  12.0  0.712950  Medium   96.209642\n",
       "13 2016-01-14  13.0  0.335188  Medium  115.176577\n",
       "14 2016-01-15  14.0  0.250971  Medium   98.599358\n",
       "15 2016-01-16  15.0  0.976546     Low  118.223845\n",
       "16 2016-01-17  16.0  0.923933    High   82.441102\n",
       "17 2016-01-18  17.0  0.453888    High  119.626335\n",
       "18 2016-01-19  18.0  0.624867     Low   87.028454\n",
       "19 2016-01-20  19.0  0.425909     Low   91.067972"
      ]
     },
     "execution_count": 6,
     "metadata": {},
     "output_type": "execute_result"
    }
   ],
   "source": [
    "df"
   ]
  },
  {
   "cell_type": "code",
   "execution_count": 13,
   "id": "c76415b9",
   "metadata": {},
   "outputs": [],
   "source": [
    "unsorted_df=pd.DataFrame(np.random.randn(10,2),index=[1,4,6,2,3,5,9,8,0,7],columns=['col2','col1']);\n",
    "unsorted_df;"
   ]
  },
  {
   "cell_type": "code",
   "execution_count": 14,
   "id": "e0c275e3",
   "metadata": {},
   "outputs": [
    {
     "data": {
      "text/html": [
       "<div>\n",
       "<style scoped>\n",
       "    .dataframe tbody tr th:only-of-type {\n",
       "        vertical-align: middle;\n",
       "    }\n",
       "\n",
       "    .dataframe tbody tr th {\n",
       "        vertical-align: top;\n",
       "    }\n",
       "\n",
       "    .dataframe thead th {\n",
       "        text-align: right;\n",
       "    }\n",
       "</style>\n",
       "<table border=\"1\" class=\"dataframe\">\n",
       "  <thead>\n",
       "    <tr style=\"text-align: right;\">\n",
       "      <th></th>\n",
       "      <th>col2</th>\n",
       "      <th>col1</th>\n",
       "    </tr>\n",
       "  </thead>\n",
       "  <tbody>\n",
       "    <tr>\n",
       "      <th>1</th>\n",
       "      <td>-0.191491</td>\n",
       "      <td>-0.141470</td>\n",
       "    </tr>\n",
       "    <tr>\n",
       "      <th>4</th>\n",
       "      <td>1.884051</td>\n",
       "      <td>-0.215798</td>\n",
       "    </tr>\n",
       "    <tr>\n",
       "      <th>6</th>\n",
       "      <td>-0.524298</td>\n",
       "      <td>1.541582</td>\n",
       "    </tr>\n",
       "    <tr>\n",
       "      <th>2</th>\n",
       "      <td>1.748517</td>\n",
       "      <td>-0.939609</td>\n",
       "    </tr>\n",
       "    <tr>\n",
       "      <th>3</th>\n",
       "      <td>1.984515</td>\n",
       "      <td>2.653769</td>\n",
       "    </tr>\n",
       "    <tr>\n",
       "      <th>5</th>\n",
       "      <td>0.146856</td>\n",
       "      <td>-0.858585</td>\n",
       "    </tr>\n",
       "    <tr>\n",
       "      <th>9</th>\n",
       "      <td>-0.887270</td>\n",
       "      <td>-0.322057</td>\n",
       "    </tr>\n",
       "    <tr>\n",
       "      <th>8</th>\n",
       "      <td>-0.113143</td>\n",
       "      <td>0.932178</td>\n",
       "    </tr>\n",
       "    <tr>\n",
       "      <th>0</th>\n",
       "      <td>-0.047676</td>\n",
       "      <td>1.065199</td>\n",
       "    </tr>\n",
       "    <tr>\n",
       "      <th>7</th>\n",
       "      <td>-1.079001</td>\n",
       "      <td>-0.588763</td>\n",
       "    </tr>\n",
       "  </tbody>\n",
       "</table>\n",
       "</div>"
      ],
      "text/plain": [
       "       col2      col1\n",
       "1 -0.191491 -0.141470\n",
       "4  1.884051 -0.215798\n",
       "6 -0.524298  1.541582\n",
       "2  1.748517 -0.939609\n",
       "3  1.984515  2.653769\n",
       "5  0.146856 -0.858585\n",
       "9 -0.887270 -0.322057\n",
       "8 -0.113143  0.932178\n",
       "0 -0.047676  1.065199\n",
       "7 -1.079001 -0.588763"
      ]
     },
     "execution_count": 14,
     "metadata": {},
     "output_type": "execute_result"
    }
   ],
   "source": [
    "unsorted_df"
   ]
  },
  {
   "cell_type": "code",
   "execution_count": 29,
   "id": "7f28428b",
   "metadata": {},
   "outputs": [],
   "source": [
    "s = pd.Series(['Om Prakash', 'Satyam', np.nan ,  'Radha'])"
   ]
  },
  {
   "cell_type": "code",
   "execution_count": 30,
   "id": "e4e0d9c2",
   "metadata": {},
   "outputs": [
    {
     "name": "stdout",
     "output_type": "stream",
     "text": [
      "Om Prakash\n",
      "Satyam\n",
      "nan\n",
      "Radha\n"
     ]
    }
   ],
   "source": [
    "for col in s:\n",
    "    print(col);"
   ]
  },
  {
   "cell_type": "markdown",
   "id": "c7cd918e",
   "metadata": {},
   "source": [
    "Creating simple Series "
   ]
  },
  {
   "cell_type": "code",
   "execution_count": 31,
   "id": "f7c087e7",
   "metadata": {},
   "outputs": [],
   "source": [
    "data = np.array(['Om','OP','Satya','Sher'])\n",
    "s =  pd.Series(data)"
   ]
  },
  {
   "cell_type": "code",
   "execution_count": 32,
   "id": "0ced3911",
   "metadata": {},
   "outputs": [
    {
     "data": {
      "text/plain": [
       "0       Om\n",
       "1       OP\n",
       "2    Satya\n",
       "3     Sher\n",
       "dtype: object"
      ]
     },
     "execution_count": 32,
     "metadata": {},
     "output_type": "execute_result"
    }
   ],
   "source": [
    "s"
   ]
  },
  {
   "cell_type": "code",
   "execution_count": 33,
   "id": "51cdfba1",
   "metadata": {},
   "outputs": [],
   "source": [
    "s  =  pd.Series(data,['A','B','C','D'])"
   ]
  },
  {
   "cell_type": "code",
   "execution_count": 34,
   "id": "1fb64e13",
   "metadata": {},
   "outputs": [
    {
     "data": {
      "text/plain": [
       "A       Om\n",
       "B       OP\n",
       "C    Satya\n",
       "D     Sher\n",
       "dtype: object"
      ]
     },
     "execution_count": 34,
     "metadata": {},
     "output_type": "execute_result"
    }
   ],
   "source": [
    "s"
   ]
  },
  {
   "cell_type": "code",
   "execution_count": null,
   "id": "f2a4a78d",
   "metadata": {},
   "outputs": [],
   "source": []
  },
  {
   "cell_type": "raw",
   "id": "5684d778",
   "metadata": {},
   "source": [
    "Creating series from dict "
   ]
  },
  {
   "cell_type": "code",
   "execution_count": 35,
   "id": "5456eee0",
   "metadata": {},
   "outputs": [],
   "source": [
    "data2 =  {'1st':90,'2nd':100,'3rd':200}\n",
    "s = pd.Series(data2)"
   ]
  },
  {
   "cell_type": "code",
   "execution_count": 36,
   "id": "3e81ac8a",
   "metadata": {},
   "outputs": [
    {
     "data": {
      "text/plain": [
       "1st     90\n",
       "2nd    100\n",
       "3rd    200\n",
       "dtype: int64"
      ]
     },
     "execution_count": 36,
     "metadata": {},
     "output_type": "execute_result"
    }
   ],
   "source": [
    "s"
   ]
  },
  {
   "cell_type": "code",
   "execution_count": 40,
   "id": "b726a040",
   "metadata": {},
   "outputs": [
    {
     "data": {
      "text/plain": [
       "2nd    100\n",
       "3rd    200\n",
       "1st     90\n",
       "dtype: int64"
      ]
     },
     "execution_count": 40,
     "metadata": {},
     "output_type": "execute_result"
    }
   ],
   "source": [
    "s = pd.Series(data2,['2nd','3rd','1st'])\n",
    "s"
   ]
  },
  {
   "cell_type": "code",
   "execution_count": 41,
   "id": "73160008",
   "metadata": {},
   "outputs": [
    {
     "data": {
      "text/plain": [
       "200"
      ]
     },
     "execution_count": 41,
     "metadata": {},
     "output_type": "execute_result"
    }
   ],
   "source": [
    "s['3rd']"
   ]
  },
  {
   "cell_type": "code",
   "execution_count": 42,
   "id": "e8ec854b",
   "metadata": {},
   "outputs": [
    {
     "data": {
      "text/plain": [
       "2nd    100\n",
       "3rd    200\n",
       "dtype: int64"
      ]
     },
     "execution_count": 42,
     "metadata": {},
     "output_type": "execute_result"
    }
   ],
   "source": [
    "s[:2]"
   ]
  },
  {
   "cell_type": "code",
   "execution_count": 44,
   "id": "ad8b7564",
   "metadata": {},
   "outputs": [
    {
     "data": {
      "text/plain": [
       "3rd    200\n",
       "1st     90\n",
       "dtype: int64"
      ]
     },
     "execution_count": 44,
     "metadata": {},
     "output_type": "execute_result"
    }
   ],
   "source": [
    "s[-2:]"
   ]
  },
  {
   "cell_type": "code",
   "execution_count": null,
   "id": "e018e9d4",
   "metadata": {},
   "outputs": [],
   "source": []
  }
 ],
 "metadata": {
  "kernelspec": {
   "display_name": "Python 3 (ipykernel)",
   "language": "python",
   "name": "python3"
  },
  "language_info": {
   "codemirror_mode": {
    "name": "ipython",
    "version": 3
   },
   "file_extension": ".py",
   "mimetype": "text/x-python",
   "name": "python",
   "nbconvert_exporter": "python",
   "pygments_lexer": "ipython3",
   "version": "3.10.6"
  }
 },
 "nbformat": 4,
 "nbformat_minor": 5
}
