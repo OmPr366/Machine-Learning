{
 "cells": [
  {
   "cell_type": "markdown",
   "id": "fc5965b8",
   "metadata": {},
   "source": [
    "# Welcome to Numpy"
   ]
  },
  {
   "cell_type": "code",
   "execution_count": 2,
   "id": "1e3680b9",
   "metadata": {},
   "outputs": [],
   "source": [
    "import numpy as np"
   ]
  },
  {
   "cell_type": "code",
   "execution_count": 3,
   "id": "2bf00948",
   "metadata": {},
   "outputs": [
    {
     "data": {
      "text/plain": [
       "array([1, 2, 3, 4])"
      ]
     },
     "execution_count": 3,
     "metadata": {},
     "output_type": "execute_result"
    }
   ],
   "source": [
    "x =  np.array([1,2,3,4])\n",
    "x"
   ]
  },
  {
   "cell_type": "code",
   "execution_count": 5,
   "id": "c8219e0e",
   "metadata": {},
   "outputs": [
    {
     "data": {
      "text/plain": [
       "array([1, 2, 3, 4])"
      ]
     },
     "execution_count": 5,
     "metadata": {},
     "output_type": "execute_result"
    }
   ],
   "source": [
    "x"
   ]
  },
  {
   "cell_type": "code",
   "execution_count": 9,
   "id": "079e0036",
   "metadata": {},
   "outputs": [
    {
     "data": {
      "text/plain": [
       "numpy.ndarray"
      ]
     },
     "execution_count": 9,
     "metadata": {},
     "output_type": "execute_result"
    }
   ],
   "source": [
    "type(x)"
   ]
  },
  {
   "cell_type": "code",
   "execution_count": 10,
   "id": "fcd572b2",
   "metadata": {},
   "outputs": [],
   "source": [
    "x[1] = 99"
   ]
  },
  {
   "cell_type": "code",
   "execution_count": 11,
   "id": "7169dbb5",
   "metadata": {},
   "outputs": [
    {
     "data": {
      "text/plain": [
       "array([ 1, 99,  3,  4])"
      ]
     },
     "execution_count": 11,
     "metadata": {},
     "output_type": "execute_result"
    }
   ],
   "source": [
    "x"
   ]
  },
  {
   "cell_type": "code",
   "execution_count": 12,
   "id": "103046a2",
   "metadata": {},
   "outputs": [
    {
     "name": "stdout",
     "output_type": "stream",
     "text": [
      "i 1\n",
      "i 99\n",
      "i 3\n",
      "i 4\n"
     ]
    }
   ],
   "source": [
    "for i in x:\n",
    "    print(\"i\",i)"
   ]
  },
  {
   "cell_type": "code",
   "execution_count": 17,
   "id": "65367e6d",
   "metadata": {},
   "outputs": [],
   "source": [
    "for i in range(90,120):\n",
    "    x = np.append(x,i)"
   ]
  },
  {
   "cell_type": "code",
   "execution_count": 18,
   "id": "d9000e11",
   "metadata": {},
   "outputs": [
    {
     "data": {
      "text/plain": [
       "array([  1,  99,   3,   4,  90,  91,  92,  93,  94,  95,  96,  97,  98,\n",
       "        99, 100, 101, 102, 103, 104, 105, 106, 107, 108, 109, 110, 111,\n",
       "       112, 113, 114, 115, 116, 117, 118, 119])"
      ]
     },
     "execution_count": 18,
     "metadata": {},
     "output_type": "execute_result"
    }
   ],
   "source": [
    "x"
   ]
  },
  {
   "cell_type": "code",
   "execution_count": 19,
   "id": "68705b0f",
   "metadata": {},
   "outputs": [],
   "source": [
    "#Creating an list and pushing in numpy array"
   ]
  },
  {
   "cell_type": "code",
   "execution_count": 28,
   "id": "b85effe3",
   "metadata": {},
   "outputs": [
    {
     "name": "stdout",
     "output_type": "stream",
     "text": [
      "1Enter your Number 1 90\n",
      "2Enter your Number 2 32\n",
      "3Enter your Number 3 45\n",
      "4Enter your Number 4 322\n",
      "5Enter your Number 5 456\n",
      "[ 90  32  45 322 456]\n"
     ]
    }
   ],
   "source": [
    "l = []\n",
    "for i in range(0,5):\n",
    "    myInput=  int(input(\"{s}Enter your Number {s} \".format(s=i+1)))\n",
    "    l.append(myInput)\n",
    "print(np.array(l))"
   ]
  },
  {
   "cell_type": "markdown",
   "id": "14c5c96d",
   "metadata": {},
   "source": [
    "Arr2 "
   ]
  },
  {
   "cell_type": "code",
   "execution_count": 34,
   "id": "e568ef70",
   "metadata": {},
   "outputs": [],
   "source": [
    "Arr2 = np.array([[1,2,3],[33,44,55]])"
   ]
  },
  {
   "cell_type": "code",
   "execution_count": 31,
   "id": "8fed3629",
   "metadata": {},
   "outputs": [
    {
     "data": {
      "text/plain": [
       "array([[ 1,  2,  3],\n",
       "       [33, 44, 55]])"
      ]
     },
     "execution_count": 31,
     "metadata": {},
     "output_type": "execute_result"
    }
   ],
   "source": [
    "Arr2"
   ]
  },
  {
   "cell_type": "code",
   "execution_count": 32,
   "id": "19547c3d",
   "metadata": {},
   "outputs": [
    {
     "data": {
      "text/plain": [
       "2"
      ]
     },
     "execution_count": 32,
     "metadata": {},
     "output_type": "execute_result"
    }
   ],
   "source": [
    "Arr2.ndim"
   ]
  },
  {
   "cell_type": "code",
   "execution_count": 35,
   "id": "694d7384",
   "metadata": {},
   "outputs": [],
   "source": [
    "# Starting of Special Numpy Array "
   ]
  },
  {
   "cell_type": "code",
   "execution_count": 36,
   "id": "c48cd5dc",
   "metadata": {},
   "outputs": [],
   "source": [
    "# 1. Araay filled with 0's"
   ]
  },
  {
   "cell_type": "code",
   "execution_count": 43,
   "id": "614ac1e2",
   "metadata": {},
   "outputs": [
    {
     "name": "stdout",
     "output_type": "stream",
     "text": [
      "[0. 0. 0. 0.]\n"
     ]
    },
    {
     "data": {
      "text/plain": [
       "array([[0., 0., 0., 0.],\n",
       "       [0., 0., 0., 0.]])"
      ]
     },
     "execution_count": 43,
     "metadata": {},
     "output_type": "execute_result"
    }
   ],
   "source": [
    "ar_Zero =  np.zeros(4)\n",
    "ar_Zero1 =  np.zeros((2,4))\n",
    "print(ar_Zero)\n",
    "ar_Zero1"
   ]
  },
  {
   "cell_type": "code",
   "execution_count": 44,
   "id": "894b6b56",
   "metadata": {},
   "outputs": [],
   "source": [
    "# 1. Araay filled with 1's"
   ]
  },
  {
   "cell_type": "code",
   "execution_count": 45,
   "id": "c97f6d39",
   "metadata": {},
   "outputs": [
    {
     "name": "stdout",
     "output_type": "stream",
     "text": [
      "[1. 1. 1. 1.]\n"
     ]
    }
   ],
   "source": [
    "ar_one =  np.ones(4)\n",
    "print(ar_one)"
   ]
  },
  {
   "cell_type": "code",
   "execution_count": 46,
   "id": "e54397fd",
   "metadata": {},
   "outputs": [],
   "source": [
    "# 3.Craete and empty array "
   ]
  },
  {
   "cell_type": "code",
   "execution_count": 47,
   "id": "a75e2966",
   "metadata": {},
   "outputs": [
    {
     "name": "stdout",
     "output_type": "stream",
     "text": [
      "[1. 1. 1. 1.]\n"
     ]
    }
   ],
   "source": [
    "ar_empty =  np.empty(4)\n",
    "print(ar_empty)"
   ]
  },
  {
   "cell_type": "code",
   "execution_count": 48,
   "id": "06c4ee9d",
   "metadata": {},
   "outputs": [],
   "source": [
    "# 4.Create and empty with range "
   ]
  },
  {
   "cell_type": "code",
   "execution_count": 50,
   "id": "8df48d53",
   "metadata": {},
   "outputs": [
    {
     "name": "stdout",
     "output_type": "stream",
     "text": [
      "[0 1 2 3 4 5 6 7 8]\n"
     ]
    }
   ],
   "source": [
    "arr_rn = np.arange(9)\n",
    "print(arr_rn)"
   ]
  },
  {
   "cell_type": "code",
   "execution_count": 51,
   "id": "6979a0d7",
   "metadata": {},
   "outputs": [],
   "source": [
    "# 5. Array with diagonal filled with 1's "
   ]
  },
  {
   "cell_type": "code",
   "execution_count": 52,
   "id": "27ba81cf",
   "metadata": {},
   "outputs": [
    {
     "name": "stdout",
     "output_type": "stream",
     "text": [
      "[[1. 0. 0.]\n",
      " [0. 1. 0.]\n",
      " [0. 0. 1.]]\n"
     ]
    }
   ],
   "source": [
    "ar_dig =  np.eye(3)\n",
    "print(ar_dig)"
   ]
  },
  {
   "cell_type": "code",
   "execution_count": 57,
   "id": "10538c1c",
   "metadata": {},
   "outputs": [
    {
     "name": "stdout",
     "output_type": "stream",
     "text": [
      "[[1. 0. 0. 0. 0. 0. 0. 0. 0.]\n",
      " [0. 1. 0. 0. 0. 0. 0. 0. 0.]\n",
      " [0. 0. 1. 0. 0. 0. 0. 0. 0.]]\n"
     ]
    }
   ],
   "source": [
    "ar_dig =  np.eye(3,9)\n",
    "print(ar_dig)"
   ]
  },
  {
   "cell_type": "markdown",
   "id": "00562601",
   "metadata": {},
   "source": [
    "Creating Numpy with random numbers"
   ]
  },
  {
   "cell_type": "code",
   "execution_count": 73,
   "id": "e555b016",
   "metadata": {},
   "outputs": [
    {
     "data": {
      "text/plain": [
       "94"
      ]
     },
     "execution_count": 73,
     "metadata": {},
     "output_type": "execute_result"
    }
   ],
   "source": [
    "np.random.randint(90,99)"
   ]
  },
  {
   "cell_type": "code",
   "execution_count": null,
   "id": "c7f46ea4",
   "metadata": {},
   "outputs": [],
   "source": []
  },
  {
   "cell_type": "code",
   "execution_count": null,
   "id": "65fd6609",
   "metadata": {},
   "outputs": [],
   "source": []
  }
 ],
 "metadata": {
  "kernelspec": {
   "display_name": "Python 3 (ipykernel)",
   "language": "python",
   "name": "python3"
  },
  "language_info": {
   "codemirror_mode": {
    "name": "ipython",
    "version": 3
   },
   "file_extension": ".py",
   "mimetype": "text/x-python",
   "name": "python",
   "nbconvert_exporter": "python",
   "pygments_lexer": "ipython3",
   "version": "3.10.10"
  },
  "vscode": {
   "interpreter": {
    "hash": "56951c903e6d266fd59ba5215f75765c9245679efb6f5bb43f3d544943e7568a"
   }
  }
 },
 "nbformat": 4,
 "nbformat_minor": 5
}
